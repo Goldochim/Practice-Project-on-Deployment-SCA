{
 "cells": [
  {
   "cell_type": "code",
   "execution_count": null,
   "metadata": {},
   "outputs": [],
   "source": [
    "import streamlit\n",
    "import pickle\n"
   ]
  },
  {
   "cell_type": "code",
   "execution_count": null,
   "metadata": {},
   "outputs": [],
   "source": [
    "pickle_in=open('clfTitanic.pkl', 'rb')\n",
    "clf=pickle.load(pickle_in)"
   ]
  },
  {
   "cell_type": "code",
   "execution_count": null,
   "metadata": {},
   "outputs": [],
   "source": [
    "def welcome():\n",
    "    return \"Welcome All\""
   ]
  },
  {
   "cell_type": "code",
   "execution_count": null,
   "metadata": {},
   "outputs": [],
   "source": [
    "def Titanic Prediction(Sex, Age, PClass,Siblings/Spouses Aboard, Parents/Children Aboard, Fare )\n",
    "    prediction=clf.predict([[Sex, Age, PClass,Siblings/Spouses Aboard, Parents/Children Aboard, Fare]])\n",
    "    print(prediction)\n",
    "    return 'The prediction value is '+str(prediction)\n"
   ]
  },
  {
   "cell_type": "code",
   "execution_count": null,
   "metadata": {},
   "outputs": [],
   "source": [
    "def main():\n",
    "    st.title(\"Titanic prediction App\")\n",
    "    html_temp=\"\"\"\n",
    "    <div style=\"background-color: tomato; padding: 10px\">\n",
    "    <ht style=\"color: white; text-align:center;\">Streamlit Titanic App</h2>\n",
    "    </div>\n",
    "    \"\"\"\n",
    "    st.markdown(html_temp, unsafe_allow_html=True)\n",
    "    Sex=st.textinput(\"Sex\", \"Type here\")\n",
    "    Age=st.textinput(\"Age\", \"Type here\")\n",
    "    PClass=st.textinput(\"PClass\", \"Type here\")\n",
    "    Siblings/Spouses Aboard=st.textinput(\"Siblings/Spouses Aboard\", \"Type here\")\n",
    "    Parents/Children Aboard=st.textinput(\"Parents/Children Aboard\", \"Type here\")\n",
    "    Fare=st.textinput(\"Fare\", \"Type here\")\n",
    "    if st.button(\"Predict\")\n",
    "        result=Titanic Prediction()\n",
    "    st.success('The Titanic Survival Prediction is {}'.format(result))\n",
    "    if st. button(\"Prediction Note\"):\n",
    "        st.text(\"0-passenger live, 1=Passenger Die\")\n",
    "if __name__\"\"'__main__':\n",
    "    main()"
   ]
  }
 ],
 "metadata": {
  "kernelspec": {
   "display_name": "Python 3",
   "language": "python",
   "name": "python3"
  },
  "language_info": {
   "codemirror_mode": {
    "name": "ipython",
    "version": 3
   },
   "file_extension": ".py",
   "mimetype": "text/x-python",
   "name": "python",
   "nbconvert_exporter": "python",
   "pygments_lexer": "ipython3",
   "version": "3.8.3"
  }
 },
 "nbformat": 4,
 "nbformat_minor": 4
}
